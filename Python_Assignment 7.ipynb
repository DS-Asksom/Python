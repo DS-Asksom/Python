{
 "cells": [
  {
   "cell_type": "code",
   "execution_count": 4,
   "id": "b7582ec5",
   "metadata": {},
   "outputs": [],
   "source": [
    "#1)Python | Sort Python Dictionaries by Key or Value"
   ]
  },
  {
   "cell_type": "code",
   "execution_count": 2,
   "id": "dffeeb53",
   "metadata": {},
   "outputs": [],
   "source": [
    "#2) Handling missing keys in Python dictionaries"
   ]
  },
  {
   "cell_type": "code",
   "execution_count": 1,
   "id": "64673234",
   "metadata": {},
   "outputs": [],
   "source": [
    "#3)Python dictionary with keys having multiple inputs"
   ]
  },
  {
   "cell_type": "code",
   "execution_count": 2,
   "id": "53e9ede2",
   "metadata": {},
   "outputs": [
    {
     "name": "stdout",
     "output_type": "stream",
     "text": [
      "Sum : 600\n"
     ]
    }
   ],
   "source": [
    "#4)Python program to find the sum of all items in a dictionary\n",
    "\n",
    "def returnSum(myDict):\n",
    " \n",
    "    list = []\n",
    "    for i in myDict:\n",
    "        list.append(myDict[i])\n",
    "    final = sum(list)\n",
    " \n",
    "    return final\n",
    " \n",
    " \n",
    "\n",
    "dict = {'a': 100, 'b': 200, 'c': 300}\n",
    "print(\"Sum :\", returnSum(dict))"
   ]
  },
  {
   "cell_type": "code",
   "execution_count": 3,
   "id": "d0423fae",
   "metadata": {},
   "outputs": [
    {
     "name": "stdout",
     "output_type": "stream",
     "text": [
      "The size of the dictionary is 232 bytes\n"
     ]
    }
   ],
   "source": [
    "#5)Python program to find the size of a Dictionary\n",
    "\n",
    "\n",
    "import sys\n",
    "\n",
    "my_dict = {1: \"a\", 2: \"b\"}\n",
    "print(\"The size of the dictionary is {} bytes\".format(sys.getsizeof(my_dict)))"
   ]
  },
  {
   "cell_type": "code",
   "execution_count": null,
   "id": "24d6632e",
   "metadata": {},
   "outputs": [],
   "source": []
  }
 ],
 "metadata": {
  "kernelspec": {
   "display_name": "Python 3 (ipykernel)",
   "language": "python",
   "name": "python3"
  },
  "language_info": {
   "codemirror_mode": {
    "name": "ipython",
    "version": 3
   },
   "file_extension": ".py",
   "mimetype": "text/x-python",
   "name": "python",
   "nbconvert_exporter": "python",
   "pygments_lexer": "ipython3",
   "version": "3.9.12"
  }
 },
 "nbformat": 4,
 "nbformat_minor": 5
}
