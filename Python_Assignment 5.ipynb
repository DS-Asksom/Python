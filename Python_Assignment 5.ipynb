{
 "cells": [
  {
   "cell_type": "code",
   "execution_count": 3,
   "id": "584ab318",
   "metadata": {},
   "outputs": [
    {
     "name": "stdout",
     "output_type": "stream",
     "text": [
      "Enter the string:adf\n",
      "adf is not palindrome string !\n",
      "adf  is not symmertical string!\n"
     ]
    }
   ],
   "source": [
    "#1)Python program to check whether the string is Symmetrical or Palindrome\n",
    "\n",
    "\n",
    "str=input(\"Enter the string:\")\n",
    "\n",
    "def palin(str):\n",
    "    if str == str[::-1]:\n",
    "        print(f\"{str} is palindrome string! \")\n",
    "    else:\n",
    "        print(f\"{str} is not palindrome string !\")\n",
    "palin(str)\n",
    "\n",
    "\n",
    "def symmet(str):\n",
    "    \n",
    "    half = int(len(str) / 2)\n",
    " \n",
    "    if len(str) % 2 == 0:             # even length\n",
    "        first_str = str[:half]\n",
    "        second_str = str[half:]\n",
    "    else:                            # odd length\n",
    "        first_str = str[:half]\n",
    "        second_str = str[half+1:]\n",
    "            \n",
    "    if first_str == second_str:\n",
    "        print(str, ' is symmertical string !')\n",
    "    else:\n",
    "        print(str, ' is not symmertical string!')\n",
    "    \n",
    "symmet(str)\n",
    "    \n",
    "    "
   ]
  },
  {
   "cell_type": "code",
   "execution_count": 4,
   "id": "2784c08c",
   "metadata": {},
   "outputs": [
    {
     "name": "stdout",
     "output_type": "stream",
     "text": [
      "somnath is name my\n"
     ]
    }
   ],
   "source": [
    "#2)Reverse words in a given String in Python\n",
    "\n",
    "string = \"my name is somnath\"\n",
    "str = string.split()[::-1]\n",
    "list = []\n",
    "\n",
    "for i in str:\n",
    "    list.append(i)\n",
    "\n",
    "print(\" \".join(list))"
   ]
  },
  {
   "cell_type": "code",
   "execution_count": 9,
   "id": "16f8156c",
   "metadata": {},
   "outputs": [
    {
     "name": "stdout",
     "output_type": "stream",
     "text": [
      "somath\n"
     ]
    }
   ],
   "source": [
    "#3)Ways to remove i’th character from string in Python\n",
    "\n",
    "str1=\"somnath\"\n",
    "final_str=str[0:3]+ str[4:7]\n",
    "print(final_str)\n",
    "\n"
   ]
  },
  {
   "cell_type": "code",
   "execution_count": 10,
   "id": "d2c16894",
   "metadata": {},
   "outputs": [
    {
     "data": {
      "text/plain": [
       "'\\n1)Using len() function\\n\\n2)Using for loop\\n\\n3)Using while loop\\n\\n4)Using string method join and count\\n'"
      ]
     },
     "execution_count": 10,
     "metadata": {},
     "output_type": "execute_result"
    }
   ],
   "source": [
    "#4)Find length of a string in python (4 ways)\n",
    "'''\n",
    "1)Using len() function\n",
    "\n",
    "2)Using for loop\n",
    "\n",
    "3)Using while loop\n",
    "\n",
    "4)Using string method join and count\n",
    "'''"
   ]
  },
  {
   "cell_type": "code",
   "execution_count": 37,
   "id": "0606615c",
   "metadata": {},
   "outputs": [
    {
     "name": "stdout",
     "output_type": "stream",
     "text": [
      "Length of the string : 15\n",
      "Length of the string: 15\n",
      "Length of the string: 15\n",
      "The length of the string is: 15\n"
     ]
    }
   ],
   "source": [
    "#1) using len() function\n",
    "\n",
    "str1 = \"How's the Josh!\"\n",
    "print(f\"Length of the string : {len(str1)}\")\n",
    "\n",
    "#2) using for loop\n",
    "\n",
    "def findlen(str1):\n",
    "    length = 0\n",
    "   \n",
    "    for i in str1:\n",
    "        length += 1\n",
    "    return length\n",
    "print(\"Length of the string:\",findlen(str1))\n",
    "\n",
    "#3)\n",
    "\n",
    "def findlen(str1):\n",
    "    length = 0\n",
    "    \n",
    "    while str1[length:]:\n",
    "        length=length+1\n",
    "    return length\n",
    "print(f\"Length of the string: {findlen(str1)}\")\n",
    "\n",
    "#4)\n",
    "\n",
    "def findlen(str1):\n",
    "    if not str1:\n",
    "        return 0\n",
    "    else:\n",
    "        some_random_str = 'py'\n",
    "        return ((some_random_str).join(str1)).count(some_random_str) + 1\n",
    "\n",
    "\n",
    "print(f\"The length of the string is: {findlen(str1)}\")\n"
   ]
  },
  {
   "cell_type": "code",
   "execution_count": 48,
   "id": "9ca60561",
   "metadata": {},
   "outputs": [
    {
     "name": "stdout",
     "output_type": "stream",
     "text": [
      "this\n",
      "is\n",
      "sample\n",
      "code\n",
      "of\n",
      "even\n"
     ]
    }
   ],
   "source": [
    "#5)Python program to print even length words in a string\n",
    "s = \"this is the sample code of the even words\"\n",
    "\n",
    "s = s.split(' ')\n",
    "\n",
    "for word in s:\n",
    "   \n",
    "   if len(word)%2==0:\n",
    "      print(word)\n",
    "\n",
    "\n"
   ]
  },
  {
   "cell_type": "code",
   "execution_count": null,
   "id": "e0d1c6ab",
   "metadata": {},
   "outputs": [],
   "source": [
    "\n",
    "\n"
   ]
  }
 ],
 "metadata": {
  "kernelspec": {
   "display_name": "Python 3 (ipykernel)",
   "language": "python",
   "name": "python3"
  },
  "language_info": {
   "codemirror_mode": {
    "name": "ipython",
    "version": 3
   },
   "file_extension": ".py",
   "mimetype": "text/x-python",
   "name": "python",
   "nbconvert_exporter": "python",
   "pygments_lexer": "ipython3",
   "version": "3.9.12"
  }
 },
 "nbformat": 4,
 "nbformat_minor": 5
}
