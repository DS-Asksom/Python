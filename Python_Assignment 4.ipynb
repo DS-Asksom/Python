{
 "cells": [
  {
   "cell_type": "code",
   "execution_count": 1,
   "id": "ea722c5e",
   "metadata": {},
   "outputs": [
    {
     "name": "stdout",
     "output_type": "stream",
     "text": [
      "Enter number of elements in the list: 5\n",
      "Enter list element: 5\n",
      "Enter list element: 6\n",
      "Enter list element: 2\n",
      "Enter list element: 8\n",
      "Enter list element: 4\n",
      "List: [5, 6, 2, 8, 4]\n",
      "Swapped List: [4, 6, 2, 8, 5]\n"
     ]
    }
   ],
   "source": [
    "#1)Python program to interchange first and last elements in a list\n",
    "\n",
    "list1 = []\n",
    "n = int(input(\"Enter number of elements in the list: \" ))\n",
    "for i in range(0, n):\n",
    "   element = int(input(\"Enter list element: \" ))\n",
    "   list1.append(element)\n",
    "print(\"List:\", list1)\n",
    "\n",
    "\n",
    "temp = list1[0]\n",
    "list1[0] = list1[n-1]\n",
    "list1[n-1] = temp\n",
    "\n",
    "\n",
    "print(\"Swapped List:\", list1)"
   ]
  },
  {
   "cell_type": "code",
   "execution_count": 2,
   "id": "e6023f25",
   "metadata": {},
   "outputs": [
    {
     "name": "stdout",
     "output_type": "stream",
     "text": [
      "[65, 23, 19, 90]\n"
     ]
    }
   ],
   "source": [
    "#2)Python program to swap two elements in a list\n",
    "def swap(list):\n",
    "     \n",
    "    list[0], list[1] = list[1], list[0]\n",
    "    return list\n",
    " \n",
    "\n",
    "List = [23, 65, 19, 90]\n",
    " \n",
    "print(swap(List))"
   ]
  },
  {
   "cell_type": "code",
   "execution_count": 3,
   "id": "6b9b4081",
   "metadata": {},
   "outputs": [
    {
     "name": "stdout",
     "output_type": "stream",
     "text": [
      "The length of list is: 4\n"
     ]
    }
   ],
   "source": [
    "#3)Python  Ways to find length of list\n",
    "a = [ ]\n",
    "\n",
    "a.append ( \"Hello\" )\n",
    "\n",
    "a.append ( \"Good\" )\n",
    "\n",
    "a.append ( \" morning \" )\n",
    "\n",
    "a.append ( \" somnath \" )\n",
    "\n",
    "print ( \"The length of list is:\" , len  (a))\n",
    "\n",
    "\n"
   ]
  },
  {
   "cell_type": "code",
   "execution_count": 4,
   "id": "b5626d24",
   "metadata": {},
   "outputs": [
    {
     "name": "stdout",
     "output_type": "stream",
     "text": [
      "Enter the 1st number:4\n",
      "Enter the 2nd number:6\n",
      "6 is maximum than 4\n"
     ]
    }
   ],
   "source": [
    "#4)Maximum of two numbers in Python\n",
    "a=int(input(\"Enter the 1st number:\"))\n",
    "b=int(input(\"Enter the 2nd number:\"))\n",
    "if a>b:\n",
    "    print(f\"{a} is maximum than {b}\")\n",
    "else:\n",
    "    print(f\"{b} is maximum than {a}\")"
   ]
  },
  {
   "cell_type": "code",
   "execution_count": 5,
   "id": "13899e8b",
   "metadata": {},
   "outputs": [
    {
     "name": "stdout",
     "output_type": "stream",
     "text": [
      "Enter the 1st number:8\n",
      "Enter the 2nd number:55\n",
      "8 is minimum than 55\n"
     ]
    }
   ],
   "source": [
    "a=int(input(\"Enter the 1st number:\"))\n",
    "b=int(input(\"Enter the 2nd number:\"))\n",
    "if a<b:\n",
    "    print(f\"{a} is minimum than {b}\")\n",
    "else:\n",
    "    print(f\"{b} is minimum than {a}\")"
   ]
  },
  {
   "cell_type": "code",
   "execution_count": null,
   "id": "eed0ce3d",
   "metadata": {},
   "outputs": [],
   "source": []
  }
 ],
 "metadata": {
  "kernelspec": {
   "display_name": "Python 3 (ipykernel)",
   "language": "python",
   "name": "python3"
  },
  "language_info": {
   "codemirror_mode": {
    "name": "ipython",
    "version": 3
   },
   "file_extension": ".py",
   "mimetype": "text/x-python",
   "name": "python",
   "nbconvert_exporter": "python",
   "pygments_lexer": "ipython3",
   "version": "3.9.12"
  }
 },
 "nbformat": 4,
 "nbformat_minor": 5
}
