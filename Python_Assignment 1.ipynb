{
 "cells": [
  {
   "cell_type": "code",
   "execution_count": 1,
   "id": "a5187369",
   "metadata": {},
   "outputs": [],
   "source": [
    "# Write a program to read distance value in meters  and convert it into centimeters, inches, and yards"
   ]
  },
  {
   "cell_type": "code",
   "execution_count": 5,
   "id": "49b6518e",
   "metadata": {},
   "outputs": [
    {
     "name": "stdout",
     "output_type": "stream",
     "text": [
      "Enter value of distance in meter:5\n",
      "Meter= 5.0 meter \n",
      "centimeter = 500.00 cm \n",
      "inch= 195.00 inch \n",
      "Yards = 5.45 yards\n"
     ]
    }
   ],
   "source": [
    "m=float(input(\"Enter value of distance in meter:\"))\n",
    "centimeter = m*100\n",
    "inch = m*39\n",
    "yards = m*1.09\n",
    "print(f\"Meter= {m} meter \\ncentimeter = {centimeter:.2f} cm \\ninch= {inch:.2f} inch \\nYards = {yards:.2f} yards\")"
   ]
  },
  {
   "cell_type": "code",
   "execution_count": null,
   "id": "c1eeba80",
   "metadata": {},
   "outputs": [],
   "source": [
    "# Read the amount and percentage of interest from  the keyboard and find final amount after adding  interest in original amount "
   ]
  },
  {
   "cell_type": "code",
   "execution_count": 6,
   "id": "77666b5c",
   "metadata": {},
   "outputs": [
    {
     "name": "stdout",
     "output_type": "stream",
     "text": [
      "Enter the Principal Amount : 800\n",
      "Enter the Rate Of Interest   : 5\n",
      "Enter Time period in Years   : 2\n",
      "\n",
      "Final amount after adding interest is:  880.00 \n"
     ]
    }
   ],
   "source": [
    "amount = float(input(\"Enter the Principal Amount : \"))\n",
    "rate = float(input(\"Enter the Rate Of Interest   : \"))\n",
    "time = float(input(\"Enter Time period in Years   : \"))\n",
    "FA= amount+ (amount * rate * time) / 100 #FA-final amount\n",
    "print(f\"\\nFinal amount after adding interest is:  {FA:.2f} \")"
   ]
  },
  {
   "cell_type": "code",
   "execution_count": 7,
   "id": "fc70431b",
   "metadata": {},
   "outputs": [],
   "source": [
    "# a program to read Celsius temperature and print equivalent Fahrenheit temperature on screen"
   ]
  },
  {
   "cell_type": "code",
   "execution_count": 8,
   "id": "90ad8ef8",
   "metadata": {},
   "outputs": [
    {
     "name": "stdout",
     "output_type": "stream",
     "text": [
      "Enter the temprature in celcius:37\n",
      "the Equvalanent fahrenheit temprature is:98.60\n"
     ]
    }
   ],
   "source": [
    "temp=float(input(\"Enter the temprature in celcius:\"))\n",
    "fah=(temp*(9/5)+32)\n",
    "print(f\"the Equvalanent fahrenheit temprature is:{fah:.2f}\")"
   ]
  },
  {
   "cell_type": "code",
   "execution_count": 8,
   "id": "37f5a404",
   "metadata": {},
   "outputs": [],
   "source": [
    "# Read radius of the circle from user and find the area and perimeter of it."
   ]
  },
  {
   "cell_type": "code",
   "execution_count": 9,
   "id": "dce750a4",
   "metadata": {},
   "outputs": [
    {
     "name": "stdout",
     "output_type": "stream",
     "text": [
      "enter the radias:14\n",
      "the area of circle is:615.44\n",
      "the circumfernce of circle is:87.92\n"
     ]
    }
   ],
   "source": [
    "r=float(input(\"enter the radias:\"))\n",
    "a=r**2*3.14\n",
    "c=2*3.14*r\n",
    "print(f\"the area of circle is:{a:.2F}\")\n",
    "print(f\"the circumfernce of circle is:{c}\")"
   ]
  },
  {
   "cell_type": "code",
   "execution_count": 10,
   "id": "eeca25b7",
   "metadata": {},
   "outputs": [],
   "source": [
    "#Write a Python program to get the Python version you are using"
   ]
  },
  {
   "cell_type": "code",
   "execution_count": 11,
   "id": "e593cc18",
   "metadata": {},
   "outputs": [
    {
     "name": "stdout",
     "output_type": "stream",
     "text": [
      "You are using Python 3.9.12 (main, Apr  4 2022, 05:22:27) [MSC v.1916 64 bit (AMD64)]\n"
     ]
    }
   ],
   "source": [
    "import sys \n",
    "print(\"You are using Python {}\".format(sys.version))\n"
   ]
  },
  {
   "cell_type": "code",
   "execution_count": 12,
   "id": "34a18c82",
   "metadata": {},
   "outputs": [],
   "source": [
    "#Write a Python program which accepts the user's first and last name and print them in reverse order with a space between them"
   ]
  },
  {
   "cell_type": "code",
   "execution_count": 14,
   "id": "d095bb68",
   "metadata": {},
   "outputs": [
    {
     "name": "stdout",
     "output_type": "stream",
     "text": [
      "Enter your First Name : som\n",
      "Enter your Last Name : adhav\n",
      "Hi   adhav  som\n"
     ]
    }
   ],
   "source": [
    "first_name = input(\"Enter your First Name : \")\n",
    "last_name= input(\"Enter your Last Name : \")\n",
    "print (F\"Hi   {last_name}  {first_name}\")\n"
   ]
  },
  {
   "cell_type": "code",
   "execution_count": 17,
   "id": "78f91b5e",
   "metadata": {},
   "outputs": [],
   "source": [
    "#Write a Python program that accepts an integer (n) and computes the value of n+nn+nnn"
   ]
  },
  {
   "cell_type": "code",
   "execution_count": 18,
   "id": "f2778189",
   "metadata": {},
   "outputs": [
    {
     "name": "stdout",
     "output_type": "stream",
     "text": [
      "Enter any one number:4\n",
      "84\n"
     ]
    }
   ],
   "source": [
    "n=int(input(\"Enter any one number:\"))\n",
    "add=n+n*n+n*n*n\n",
    "print(add)"
   ]
  },
  {
   "cell_type": "code",
   "execution_count": 15,
   "id": "f1aaf6fb",
   "metadata": {},
   "outputs": [
    {
     "name": "stdout",
     "output_type": "stream",
     "text": [
      "hi how are you\n",
      "    by\n"
     ]
    }
   ],
   "source": [
    "#Write a Python program to print the documents (syntax, description etc.) of Python built-in function(s).#***\n",
    "\n",
    "def show():\n",
    "    '''hi how are you\n",
    "    by'''\n",
    "   \n",
    "\n",
    "print(show.__doc__)  "
   ]
  },
  {
   "cell_type": "code",
   "execution_count": null,
   "id": "90238d14",
   "metadata": {},
   "outputs": [],
   "source": []
  }
 ],
 "metadata": {
  "kernelspec": {
   "display_name": "Python 3 (ipykernel)",
   "language": "python",
   "name": "python3"
  },
  "language_info": {
   "codemirror_mode": {
    "name": "ipython",
    "version": 3
   },
   "file_extension": ".py",
   "mimetype": "text/x-python",
   "name": "python",
   "nbconvert_exporter": "python",
   "pygments_lexer": "ipython3",
   "version": "3.9.12"
  }
 },
 "nbformat": 4,
 "nbformat_minor": 5
}
