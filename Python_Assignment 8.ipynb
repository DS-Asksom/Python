{
 "cells": [
  {
   "cell_type": "code",
   "execution_count": 1,
   "id": "f3ad99ad",
   "metadata": {},
   "outputs": [
    {
     "name": "stdout",
     "output_type": "stream",
     "text": [
      "Size of Set1: 216bytes\n"
     ]
    }
   ],
   "source": [
    "#1)Find the size of a Set in Python\n",
    "\n",
    "import sys\n",
    "\n",
    "\n",
    "Set1 = { \"Raju\", \"Nikhil\", \"Deepanshu\"}\n",
    "  \n",
    "\n",
    "print(\"Size of Set1: \" + str(sys.getsizeof(Set1)) + \"bytes\")"
   ]
  },
  {
   "cell_type": "code",
   "execution_count": 2,
   "id": "1f545306",
   "metadata": {},
   "outputs": [
    {
     "name": "stdout",
     "output_type": "stream",
     "text": [
      "o\n",
      "t\n",
      "m\n",
      "a\n",
      "n\n",
      "s\n",
      "h\n"
     ]
    }
   ],
   "source": [
    "#2)Iterate over a set in Python\n",
    "\n",
    "set1 = set(\"somnath\")\n",
    " \n",
    "test_list = list(set1)\n",
    " \n",
    "for i in range(len(test_list)):\n",
    "        print(test_list[i])"
   ]
  },
  {
   "cell_type": "code",
   "execution_count": 9,
   "id": "4578af3e",
   "metadata": {},
   "outputs": [
    {
     "name": "stdout",
     "output_type": "stream",
     "text": [
      "65\n",
      "1\n"
     ]
    }
   ],
   "source": [
    "#3)Python – Maximum and Minimum in a Set\n",
    "\n",
    "sets = {8, 16, 24, 1, 25, 3, 10, 65, 55}\n",
    "print(max(sets))\n",
    "print(min(sets))"
   ]
  },
  {
   "cell_type": "code",
   "execution_count": 10,
   "id": "ff9bcdc5",
   "metadata": {},
   "outputs": [
    {
     "name": "stdout",
     "output_type": "stream",
     "text": [
      "{'apple', 'cherry'}\n"
     ]
    }
   ],
   "source": [
    "#4)Python – Remove items from Set\n",
    "\n",
    "sets = {\"apple\", \"banana\", \"cherry\"}\n",
    "\n",
    "sets.remove(\"banana\")\n",
    "\n",
    "print(sets)"
   ]
  },
  {
   "cell_type": "code",
   "execution_count": 4,
   "id": "8fb43c50",
   "metadata": {},
   "outputs": [
    {
     "name": "stdout",
     "output_type": "stream",
     "text": [
      "True\n"
     ]
    }
   ],
   "source": [
    "#5)Python – Check if two lists have atleast one element common\n",
    "\n",
    "\n",
    "x = {\"apple\", \"banana\", \"cherry\"}\n",
    "y = {\"google\", \"microsoft\", \"apple\"}\n",
    "\n",
    "\n",
    "flag = 0\n",
    "  \n",
    "\n",
    "for element in y:\n",
    "    if element in x:\n",
    "        flag = 1\n",
    "        \n",
    "  \n",
    "if flag == 1:\n",
    "    print(\"True\")\n",
    "else :\n",
    "    print(\"False\")"
   ]
  },
  {
   "cell_type": "code",
   "execution_count": null,
   "id": "222f4026",
   "metadata": {},
   "outputs": [],
   "source": []
  },
  {
   "cell_type": "code",
   "execution_count": null,
   "id": "a96bf10d",
   "metadata": {},
   "outputs": [],
   "source": []
  }
 ],
 "metadata": {
  "kernelspec": {
   "display_name": "Python 3 (ipykernel)",
   "language": "python",
   "name": "python3"
  },
  "language_info": {
   "codemirror_mode": {
    "name": "ipython",
    "version": 3
   },
   "file_extension": ".py",
   "mimetype": "text/x-python",
   "name": "python",
   "nbconvert_exporter": "python",
   "pygments_lexer": "ipython3",
   "version": "3.9.12"
  }
 },
 "nbformat": 4,
 "nbformat_minor": 5
}
