{
 "cells": [
  {
   "cell_type": "code",
   "execution_count": 1,
   "id": "574b52c5",
   "metadata": {},
   "outputs": [],
   "source": [
    "#1)How to get list of parameters name from a function in Python?\n"
   ]
  },
  {
   "cell_type": "code",
   "execution_count": 1,
   "id": "6bd1c7b0",
   "metadata": {},
   "outputs": [
    {
     "name": "stdout",
     "output_type": "stream",
     "text": [
      "Marks  (34, 45, 67, 89, 45, 89)\n"
     ]
    }
   ],
   "source": [
    "#2)How to Print Multiple Arguments in Python?\n",
    "\n",
    "def demo(*marks):\n",
    "     print(\"Marks \", marks)\n",
    "  \n",
    "  \n",
    "  \n",
    "demo(34,45,67,89,45,89)"
   ]
  },
  {
   "cell_type": "code",
   "execution_count": 9,
   "id": "b1348c88",
   "metadata": {},
   "outputs": [
    {
     "name": "stdout",
     "output_type": "stream",
     "text": [
      "12167\n"
     ]
    }
   ],
   "source": [
    "#3)Python program to find the power of a number using recursion\n",
    "\n",
    "def power(n, pow):\n",
    " \n",
    "    \n",
    "    if pow == 0:    # if power is 0 then return 1\n",
    "        return 1\n",
    "    \n",
    "    return (n*power(n, pow-1)) \n",
    " \n",
    "\n",
    " \n",
    "print(power(23,3))"
   ]
  },
  {
   "cell_type": "code",
   "execution_count": 18,
   "id": "6b357a9e",
   "metadata": {},
   "outputs": [
    {
     "name": "stdout",
     "output_type": "stream",
     "text": [
      "[('python', 1), ('langwage', 2), ('for', 3), ('Data', 4), ('science', 5)]\n"
     ]
    }
   ],
   "source": [
    "#4)Sorting objects of user defined class in Python\n",
    "\n",
    "class Demo:\n",
    "    def __init__(self, a, b):\n",
    "        self.a = a\n",
    "        self.b = b\n",
    "  \n",
    "    def __repr__(self):          #to show user\n",
    "        return str((self.a, self.b))\n",
    "  \n",
    "  \n",
    "demo = [Demo(\"langwage\", 2),\n",
    "        Demo(\"python\", 1),\n",
    "       Demo(\"for\", 3),\n",
    "       Demo(\"science\", 5),\n",
    "       Demo(\"Data\", 4)]\n",
    "\n",
    "print(sorted(demo, key=lambda x: x.b))"
   ]
  },
  {
   "cell_type": "code",
   "execution_count": 17,
   "id": "7a597292",
   "metadata": {},
   "outputs": [],
   "source": [
    "#5)Functions that accept variable length key value pair as arguments"
   ]
  },
  {
   "cell_type": "code",
   "execution_count": null,
   "id": "6f82762e",
   "metadata": {},
   "outputs": [],
   "source": []
  }
 ],
 "metadata": {
  "kernelspec": {
   "display_name": "Python 3 (ipykernel)",
   "language": "python",
   "name": "python3"
  },
  "language_info": {
   "codemirror_mode": {
    "name": "ipython",
    "version": 3
   },
   "file_extension": ".py",
   "mimetype": "text/x-python",
   "name": "python",
   "nbconvert_exporter": "python",
   "pygments_lexer": "ipython3",
   "version": "3.9.12"
  }
 },
 "nbformat": 4,
 "nbformat_minor": 5
}
