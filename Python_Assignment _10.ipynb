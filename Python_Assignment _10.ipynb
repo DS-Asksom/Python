{
 "cells": [
  {
   "cell_type": "code",
   "execution_count": 9,
   "id": "024a9b5d",
   "metadata": {},
   "outputs": [
    {
     "name": "stdout",
     "output_type": "stream",
     "text": [
      "True\n"
     ]
    }
   ],
   "source": [
    "#1)Lambda with if but without else in Python\n",
    "\n",
    "result = lambda x : x %2==0 if(x>0) else none\n",
    "print(result(16))\n"
   ]
  },
  {
   "cell_type": "code",
   "execution_count": 10,
   "id": "ce77ae8f",
   "metadata": {},
   "outputs": [
    {
     "name": "stdout",
     "output_type": "stream",
     "text": [
      "geeks\n"
     ]
    }
   ],
   "source": [
    "#2)Python | Sorting string using order defined by another string\n",
    "\n",
    "def sortbyPattern(pat, str):\n",
    "  \n",
    "    priority = list(pat)\n",
    "  \n",
    "    # Create a dictionary to store priority of each character\n",
    "    myDict = { priority[i] : i for i in range(len(priority))}\n",
    "  \n",
    "    str = list(str)\n",
    "  \n",
    "    # Pass lambda function as key in sort function\n",
    "    str.sort( key = lambda ele : myDict[ele])\n",
    "  \n",
    "    # Reverse the string using reverse()\n",
    "    str.reverse()\n",
    "  \n",
    "    new_str = ''.join(str)\n",
    "    return new_str\n",
    "  \n",
    "  \n",
    "if __name__=='__main__':\n",
    "    pat = \"asbcklfdmegnot\"\n",
    "    str =  \"eksge\"\n",
    "    new_str = sortbyPattern(pat, str)\n",
    "    print(new_str)"
   ]
  },
  {
   "cell_type": "code",
   "execution_count": 12,
   "id": "b5a1ab39",
   "metadata": {},
   "outputs": [
    {
     "name": "stdout",
     "output_type": "stream",
     "text": [
      "[0, 1, 1, 2, 3, 5, 8, 13]\n"
     ]
    }
   ],
   "source": [
    "#3)Python | Find fibonacci series upto n using lambda\n",
    "\n",
    "def fibonacci(count):\n",
    "   listA = [0, 1]\n",
    "\n",
    "   any(map(lambda _:listA.append(sum(listA[-2:])),\n",
    "         range(2, count)))\n",
    "\n",
    "   return listA[:count]\n",
    "\n",
    "print(fibonacci(8))"
   ]
  },
  {
   "cell_type": "code",
   "execution_count": 13,
   "id": "04171402",
   "metadata": {},
   "outputs": [
    {
     "name": "stdout",
     "output_type": "stream",
     "text": [
      "Even numbers in the list:  3\n",
      "Odd numbers in the list:  4\n"
     ]
    }
   ],
   "source": [
    "#4)Python program to count Even and Odd numbers in a List\n",
    "\n",
    "list1 = [10, 21, 4, 45, 66, 93, 1]\n",
    " \n",
    "even_count, odd_count = 0, 0\n",
    " \n",
    "# iterating each number in list\n",
    "for num in list1:\n",
    "     \n",
    "    # checking condition\n",
    "    if num % 2 == 0:\n",
    "        even_count += 1\n",
    " \n",
    "    else:\n",
    "        odd_count += 1\n",
    "         \n",
    "print(\"Even numbers in the list: \", even_count)\n",
    "print(\"Odd numbers in the list: \", odd_count)\n"
   ]
  },
  {
   "cell_type": "code",
   "execution_count": 14,
   "id": "30c25718",
   "metadata": {},
   "outputs": [
    {
     "name": "stdout",
     "output_type": "stream",
     "text": [
      "3\n"
     ]
    }
   ],
   "source": [
    "#5)Python | Find the Number Occurring Odd Number of Times using Lambda expression and reduce function\n",
    "\n",
    "from functools import reduce\n",
    "  \n",
    "def oddTimes(input):\n",
    "     # write lambda expression and apply\n",
    "     # reduce function over input list\n",
    "     # until single value is left\n",
    "     # expression reduces value of a ^ b into single value\n",
    "     # a starts from 0 and b from 1\n",
    "     # ((((((1 ^ 2)^3)^2)^3)^1)^3)\n",
    "     print (reduce(lambda a, b: a ^ b, input))\n",
    "  \n",
    "# Driver program\n",
    "if __name__ == \"__main__\":\n",
    "    input = [1, 2, 3, 2, 3, 1, 3]\n",
    "    oddTimes(input)"
   ]
  },
  {
   "cell_type": "code",
   "execution_count": null,
   "id": "066ba817",
   "metadata": {},
   "outputs": [],
   "source": []
  }
 ],
 "metadata": {
  "kernelspec": {
   "display_name": "Python 3 (ipykernel)",
   "language": "python",
   "name": "python3"
  },
  "language_info": {
   "codemirror_mode": {
    "name": "ipython",
    "version": 3
   },
   "file_extension": ".py",
   "mimetype": "text/x-python",
   "name": "python",
   "nbconvert_exporter": "python",
   "pygments_lexer": "ipython3",
   "version": "3.9.12"
  }
 },
 "nbformat": 4,
 "nbformat_minor": 5
}
