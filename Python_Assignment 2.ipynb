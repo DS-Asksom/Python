{
 "cells": [
  {
   "cell_type": "code",
   "execution_count": 1,
   "id": "1d86928d",
   "metadata": {},
   "outputs": [
    {
     "name": "stdout",
     "output_type": "stream",
     "text": [
      "Enter any Number:56\n",
      "56 is a Even number.\n"
     ]
    }
   ],
   "source": [
    "#Write a program to read a number from  user and find whether number is odd or  even\n",
    "\n",
    "num=int(input(\"Enter any Number:\"))\n",
    "if num%2==0:\n",
    "    print(num,\"is a Even number.\")\n",
    "else:\n",
    "    print(num,\"is a Odd number.\")"
   ]
  },
  {
   "cell_type": "code",
   "execution_count": 2,
   "id": "dbc8c745",
   "metadata": {},
   "outputs": [
    {
     "name": "stdout",
     "output_type": "stream",
     "text": [
      "Enter the year of  from of YYYY:2004\n",
      "2004 is a leap year!\n"
     ]
    }
   ],
   "source": [
    "#Read an year and find whether that year is leap  or not? \n",
    "#Conditions for being leap year: \n",
    "#It should be divisible by four. \n",
    "#If its a century year, it should be divisible by  400 also. \n",
    "\n",
    "year=int(input(\"Enter the year of  from of YYYY:\"))\n",
    "\n",
    "if year%4==0:\n",
    "    print(year,\"is a leap year!\")\n",
    "elif year%100==0 and year%400==0:\n",
    "    print(year,\"is a leap year!\")\n",
    "else:\n",
    "    print(year,\"is a not leap year!\")"
   ]
  },
  {
   "cell_type": "code",
   "execution_count": 3,
   "id": "381f6fbb",
   "metadata": {},
   "outputs": [
    {
     "name": "stdout",
     "output_type": "stream",
     "text": [
      "Enter Any number8\n",
      "Menu:\n",
      "1.Squre \n",
      "2.Cube \n",
      "3 Check Odd Or even \n",
      "4 Check positive Or Negative \n",
      "\n",
      "Enter Your choice:\n",
      "2\n",
      "Cube: 512\n"
     ]
    }
   ],
   "source": [
    "#Read a number from user and do the following  by showing menu: \n",
    "#Find its square \n",
    "#Find cube \n",
    "#Check odd / even \n",
    "#Check positive / negative \n",
    "\n",
    "num=int(input(\"Enter Any number\"))\n",
    "print(\"Menu:\\n1.Squre \\n2.Cube \\n3 Check Odd Or even \\n4 Check positive Or Negative \\n\")\n",
    "ch=int(input(\"Enter Your choice:\\n\"))\n",
    "if ch==1:\n",
    "    print(\"Squre:\",num*num)\n",
    "elif ch==2:\n",
    "    print(\"Cube:\",num*num*num)\n",
    "elif ch==3:\n",
    "    if num%2==0:\n",
    "        print(num,\"is Odd\")\n",
    "    else:\n",
    "        print(num,\"is Even\")\n",
    "elif ch==4:\n",
    "    if num>=0:\n",
    "        print(num,\"is positive\")\n",
    "    else:\n",
    "        print(num,\"is Negative\")\n",
    "else:\n",
    "    print(\"invalid choce\")\n",
    "        "
   ]
  },
  {
   "cell_type": "code",
   "execution_count": 4,
   "id": "24691a14",
   "metadata": {},
   "outputs": [
    {
     "name": "stdout",
     "output_type": "stream",
     "text": [
      "Enter selling cost:500\n",
      "Enter Actual cost:480\n",
      "The profit is rs: 20\n"
     ]
    }
   ],
   "source": [
    "#Write a Python program to calculate profit or loss. Input is  selling cost and actual cost. \n",
    "sc=int(input(\"Enter selling cost:\"))\n",
    "ac=int(input(\"Enter Actual cost:\"))\n",
    "if sc>ac:\n",
    "    print(\"The profit is rs:\",sc-ac)\n",
    "else:\n",
    "    print(\"The lost is rs:\",ac-sc)"
   ]
  },
  {
   "cell_type": "code",
   "execution_count": 5,
   "id": "9ce4a14a",
   "metadata": {},
   "outputs": [
    {
     "name": "stdout",
     "output_type": "stream",
     "text": [
      "Enter any Character:j\n",
      "j is a Lower case Charecter!\n"
     ]
    }
   ],
   "source": [
    "#Write a Python program to check whether a character is  uppercase or lowercase alphabet\n",
    "\n",
    "char=input(\"Enter any Character:\")\n",
    "if char.isupper():\n",
    "    print(char,\"is a Upper case charecter!\")\n",
    "elif char.islower():\n",
    "    print(char,\"is a Lower case Charecter!\")\n",
    "else:\n",
    "    print(\"Invalid charecter!\")"
   ]
  },
  {
   "cell_type": "code",
   "execution_count": 6,
   "id": "f9cd9dcd",
   "metadata": {},
   "outputs": [
    {
     "name": "stdout",
     "output_type": "stream",
     "text": [
      "Enter the Units:52\n",
      "Your Electricity Bill for 52 units is Rs 31.005  \n",
      "Thank You!!!\n"
     ]
    }
   ],
   "source": [
    "#Write a Python program to input electricity unit charges and  calculate total electricity bill according to the given condition:\n",
    "#For first 50 units Rs. 0.50/unit\n",
    "#For next 100 units Rs. 0.75/unit\n",
    "#For next 100 units Rs. 1.25/unit\n",
    "#For unit above 250 Rs. 1.50/unit\n",
    "#An additional surcharge of 17% is added to the bill\n",
    "\n",
    "units=int(input(\"Enter the Units:\"))\n",
    "\n",
    "if  units<=50:\n",
    "    amount=units*.50\n",
    "    \n",
    "elif units<=150:                  #here 25 is 1st 50 unit bill\n",
    "    amount=25+(units-50)*.75\n",
    "    \n",
    "elif units<=250:                  #here 100 is 1st 150 unit bill   \n",
    "    amount=100+(units-150)*1.25\n",
    "    \n",
    "else:\n",
    "    amount=225+(units-250)*1.50   #here 225 is 1st 250 units bill\n",
    "    \n",
    "total=amount+amount*0.17\n",
    "\n",
    "print(f\"Your Electricity Bill for {units} units is Rs {total}  \")\n",
    "print(\"Thank You!!!\")"
   ]
  },
  {
   "cell_type": "code",
   "execution_count": 7,
   "id": "b477a4e6",
   "metadata": {},
   "outputs": [
    {
     "name": "stdout",
     "output_type": "stream",
     "text": [
      "Addition of first ten natural number is:  55\n"
     ]
    }
   ],
   "source": [
    "#Find addition of first ten natural numbers. That  is, find addition of numbers from 1 to 10. \n",
    "add=0\n",
    "for i in range(1,11):\n",
    "    add=add+i\n",
    "print(\"Addition of first ten natural number is: \",add)"
   ]
  },
  {
   "cell_type": "code",
   "execution_count": 8,
   "id": "bbe2ae63",
   "metadata": {},
   "outputs": [
    {
     "name": "stdout",
     "output_type": "stream",
     "text": [
      "Addition of odd number in the 1 to 20 is:  100\n"
     ]
    }
   ],
   "source": [
    "#Find addition of all the odd numbers from 1 to 20. That is, find addition of numbers 1, 3, 5 …  19. \n",
    "\n",
    "add=0\n",
    "for i in range(1,21,2):\n",
    "    add=add+i\n",
    "print(\"Addition of odd number in the 1 to 20 is: \",add)\n"
   ]
  },
  {
   "cell_type": "code",
   "execution_count": 9,
   "id": "722ba151",
   "metadata": {},
   "outputs": [
    {
     "name": "stdout",
     "output_type": "stream",
     "text": [
      "enter the any number :5\n",
      "120\n"
     ]
    }
   ],
   "source": [
    "#Read a number from user and find the factorial of  the number\n",
    "\n",
    "num=int(input(\"enter the any number :\"))\n",
    "fact=1\n",
    "for i in range(1,num+1):\n",
    "    fact=fact*i\n",
    "print(fact)"
   ]
  },
  {
   "cell_type": "code",
   "execution_count": 10,
   "id": "e5ac03cb",
   "metadata": {},
   "outputs": [
    {
     "name": "stdout",
     "output_type": "stream",
     "text": [
      "Enter the any Number: 5\n",
      "5\n"
     ]
    }
   ],
   "source": [
    "#Take a number user input and find sum of digits of  this number\n",
    "\n",
    "num=int(input(\"Enter the any Number: \"))\n",
    "add=0\n",
    "for i in str(num):\n",
    "    add=add+int(i)\n",
    "print(add)"
   ]
  },
  {
   "cell_type": "code",
   "execution_count": 11,
   "id": "d74ce423",
   "metadata": {},
   "outputs": [
    {
     "name": "stdout",
     "output_type": "stream",
     "text": [
      "11\n",
      "13\n",
      "15\n",
      "17\n",
      "19\n",
      "21\n",
      "23\n",
      "25\n",
      "27\n",
      "29\n"
     ]
    }
   ],
   "source": [
    "#Write a program to print all the odd numbers from  10 to 30. \n",
    "\n",
    "for i in range(10,30):\n",
    "    if i%2!=0:\n",
    "        print(i)"
   ]
  },
  {
   "cell_type": "code",
   "execution_count": 1,
   "id": "37a0662f",
   "metadata": {},
   "outputs": [
    {
     "name": "stdout",
     "output_type": "stream",
     "text": [
      "Enter the number16131\n",
      "13161\n"
     ]
    }
   ],
   "source": [
    "#Read a number from keyboard and print it in  reverse. ****\n",
    "\n",
    "num = int(input(\"Enter the number\"))\n",
    "print(str(num)[::-1])"
   ]
  },
  {
   "cell_type": "code",
   "execution_count": 2,
   "id": "2e4fa297",
   "metadata": {},
   "outputs": [
    {
     "name": "stdout",
     "output_type": "stream",
     "text": [
      "Enter N number:5\n",
      "5  terms of the fibonacci series are:\n",
      "[0, 1, 1, 2, 3]\n"
     ]
    }
   ],
   "source": [
    "#Write a program to print Fibonacci series up to n  terms. \n",
    "\n",
    "fibonacciList = [0, 1]\n",
    "term=3\n",
    "n= int(input(\"Enter N number:\"))\n",
    "while term < n + 1:\n",
    "    value = fibonacciList[term - 2] + fibonacciList[term - 3]\n",
    "    fibonacciList.append(value)\n",
    "    term = term + 1\n",
    "print(n,\" terms of the fibonacci series are:\")\n",
    "print(fibonacciList)"
   ]
  },
  {
   "cell_type": "code",
   "execution_count": null,
   "id": "0e1517a2",
   "metadata": {},
   "outputs": [],
   "source": []
  }
 ],
 "metadata": {
  "kernelspec": {
   "display_name": "Python 3 (ipykernel)",
   "language": "python",
   "name": "python3"
  },
  "language_info": {
   "codemirror_mode": {
    "name": "ipython",
    "version": 3
   },
   "file_extension": ".py",
   "mimetype": "text/x-python",
   "name": "python",
   "nbconvert_exporter": "python",
   "pygments_lexer": "ipython3",
   "version": "3.9.12"
  }
 },
 "nbformat": 4,
 "nbformat_minor": 5
}
