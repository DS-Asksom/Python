{
 "cells": [
  {
   "cell_type": "code",
   "execution_count": 1,
   "id": "bb0c7e27",
   "metadata": {},
   "outputs": [
    {
     "name": "stdout",
     "output_type": "stream",
     "text": [
      "Select an operation.\n",
      "+\n",
      "-\n",
      "*\n",
      "/\n",
      "Enter first number: 5\n",
      "Enter second number: 6\n",
      "Enter operator to use:+\n",
      "5 + 6 = 11\n"
     ]
    }
   ],
   "source": [
    "#1)Develop a calculator using functions and perform all the operation on it. \n",
    "\n",
    "def add(a, b):\n",
    "    return a + b\n",
    "\n",
    "def subt(a, b):\n",
    "    return a - b\n",
    "\n",
    "def multi(a, b):\n",
    "    return a * b\n",
    "\n",
    "def div(a, b):\n",
    "    return a / b\n",
    "\n",
    "print(\"Select an operation.\")\n",
    "print(\"+\")\n",
    "print(\"-\")\n",
    "print(\"*\")\n",
    "print(\"/\")\n",
    "\n",
    "A= int(input(\"Enter first number: \"))\n",
    "B= int(input(\"Enter second number: \"))\n",
    "\n",
    "choice = input(\"Enter operator to use:\")\n",
    "\n",
    "if choice == '+':\n",
    "    print(A,\"+\",B,\"=\", add(A,B))\n",
    "elif choice == '-':\n",
    "    print(A,\"-\",B,\"=\", sub(A,B))\n",
    "elif choice == '*':\n",
    "    print(A,\"*\",B,\"=\", multi(A,B))\n",
    "elif choice == '/':\n",
    "    print(A,\"/\",B,\"=\", div(A,B))\n",
    "else:\n",
    "    print(\"Invalid input\")"
   ]
  },
  {
   "cell_type": "code",
   "execution_count": 12,
   "id": "681d3db5",
   "metadata": {},
   "outputs": [
    {
     "name": "stdout",
     "output_type": "stream",
     "text": [
      "['jay A kumar', 'Fahad Momin', 'deepak N sharma', 'mithilesh singh', 'payal vasave', 'rohit N yadav']\n"
     ]
    }
   ],
   "source": [
    "#2)Create a lambda function to sort the name list according to their surname.\n",
    "name = [\"jay A kumar\",'deepak N sharma','rohit N yadav','mithilesh singh','payal vasave','Fahad Momin']\n",
    "\n",
    "name = [\"jay A kumar\",'deepak N sharma','rohit N yadav','mithilesh singh','payal vasave','Fahad Momin']\n",
    "name.sort(key=lambda name: name.split(\" \")[-1].lower())\n",
    "print(name)"
   ]
  },
  {
   "cell_type": "code",
   "execution_count": 10,
   "id": "6e64b9dc",
   "metadata": {},
   "outputs": [
    {
     "name": "stdout",
     "output_type": "stream",
     "text": [
      "[('kashmir', 33.8), ('mumbai', 60.8), ('goa', 71.6), ('channai', 64.4), ('kerla', 68.0)]\n"
     ]
    }
   ],
   "source": [
    "#3)using map function,  create a lambda expression to convert the degree celcius to fahrenheit\n",
    "#temp = [('kashmir',1),('mumbai',16),('goa',22),('channai',18),('kerla',20)]\n",
    "#Formula to convert fahrenheit to celsius, f = 9/5 x c + 32\n",
    "\n",
    "temp = [('kashmir',1),('mumbai',16),('goa',22),('channai',18),('kerla',20)]\n",
    "\n",
    "f=list(map(lambda x:  (x[0],  x[1]*(9/5)+ 32),temp))\n",
    "print(f)\n"
   ]
  },
  {
   "cell_type": "code",
   "execution_count": 11,
   "id": "204db954",
   "metadata": {},
   "outputs": [],
   "source": [
    "#4) WAP to return vowels from the sequence.\n",
    "# Sequence= ['g', 'e', 'e', 'j', 'k', 's', 'p', 'r']\n"
   ]
  },
  {
   "cell_type": "code",
   "execution_count": 7,
   "id": "2a7b3af6",
   "metadata": {},
   "outputs": [
    {
     "name": "stdout",
     "output_type": "stream",
     "text": [
      "Name= som\n",
      "Salary= 3000\n"
     ]
    }
   ],
   "source": [
    "#5)Write a program to create a function show_employee() using the following conditions.\n",
    "# It should accept the employee’s name and salary and display both.\n",
    "# If the salary is missing in the function call then assign default value 9000 to salary.\n",
    "\n",
    "def show_employee(name,salary=9000):\n",
    "    print(\"Name=\",name)\n",
    "    print(\"Salary=\",salary)\n",
    "\n",
    "show_employee(\"som\",3000)\n"
   ]
  },
  {
   "cell_type": "code",
   "execution_count": null,
   "id": "8de70750",
   "metadata": {},
   "outputs": [],
   "source": []
  },
  {
   "cell_type": "code",
   "execution_count": null,
   "id": "bcc21067",
   "metadata": {},
   "outputs": [],
   "source": []
  }
 ],
 "metadata": {
  "kernelspec": {
   "display_name": "Python 3 (ipykernel)",
   "language": "python",
   "name": "python3"
  },
  "language_info": {
   "codemirror_mode": {
    "name": "ipython",
    "version": 3
   },
   "file_extension": ".py",
   "mimetype": "text/x-python",
   "name": "python",
   "nbconvert_exporter": "python",
   "pygments_lexer": "ipython3",
   "version": "3.9.12"
  }
 },
 "nbformat": 4,
 "nbformat_minor": 5
}
