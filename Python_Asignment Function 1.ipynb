{
 "cells": [
  {
   "cell_type": "code",
   "execution_count": 1,
   "id": "f650de11",
   "metadata": {},
   "outputs": [
    {
     "name": "stdout",
     "output_type": "stream",
     "text": [
      "Enter the 1st number:5\n",
      "Enter the 2nd number:3\n",
      "Enter the 3rd number:3\n",
      "5 is grater than 3 and 3.\n"
     ]
    }
   ],
   "source": [
    "#Write a Python function to find the Max of three  numbers.\n",
    "\n",
    "def max():\n",
    "    if a>b and a>c:\n",
    "        print(f\"{a} is grater than {b} and {c}.\")\n",
    "    elif b>a and b>c:\n",
    "        print(f\"{b} is grater than {a} and {c}.\")\n",
    "    else:\n",
    "        print(f\"{c} is grater than {b} and {a}.\")\n",
    "        \n",
    "a=int(input(\"Enter the 1st number:\"))\n",
    "b=int(input(\"Enter the 2nd number:\"))\n",
    "c=int(input(\"Enter the 3rd number:\"))\n",
    "\n",
    "max()"
   ]
  },
  {
   "cell_type": "code",
   "execution_count": 2,
   "id": "43045aae",
   "metadata": {},
   "outputs": [
    {
     "name": "stdout",
     "output_type": "stream",
     "text": [
      "Enter the number to check in the range or not:5\n",
      "5 is in range\n"
     ]
    }
   ],
   "source": [
    "#Write a Python function to check whether a  number is in a given range.\n",
    "\n",
    "i=int(input(\"Enter the number to check in the range or not:\"))\n",
    "a=range(0,10)\n",
    "\n",
    "\n",
    "def in_range(a):\n",
    "    if i in a:\n",
    "        print(f\"{i} is in range\")\n",
    "    else:\n",
    "        print(\"Not in a range\")\n",
    "        \n",
    "in_range(a)\n"
   ]
  },
  {
   "cell_type": "code",
   "execution_count": 3,
   "id": "5cfa6c03",
   "metadata": {},
   "outputs": [
    {
     "name": "stdout",
     "output_type": "stream",
     "text": [
      "how many element you entered:2\n",
      "enter the value:3\n",
      "enter the value:1\n",
      "The all number list is: [3, 1]\n",
      "The Even number list is: []\n"
     ]
    }
   ],
   "source": [
    "#Write a Python program to print the even numbers  from a given list. Go to the editor.\n",
    "#Sample List : [1, 2, 3, 4, 5, 6, 7, 8, 9]\n",
    "#Expected Result : [2, 4, 6, 8]\n",
    "\n",
    "list1=[]\n",
    "count=0\n",
    "total=int(input (\"how many element you entered:\"))\n",
    "for i in range(total):\n",
    "    value=int(input(\"enter the value:\"))\n",
    "    list1.append(value)\n",
    "print(f\"The all number list is: {list1}\")\n",
    "even=[]\n",
    "for i in list1:\n",
    "    if i%2==0:\n",
    "        even.append(i)\n",
    "       \n",
    "print(f\"The Even number list is: {even}\")\n",
    "\n"
   ]
  },
  {
   "cell_type": "code",
   "execution_count": 2,
   "id": "d9d3f718",
   "metadata": {},
   "outputs": [
    {
     "name": "stdout",
     "output_type": "stream",
     "text": [
      "enter the string:ASA\n",
      "\n",
      "ASA is a Palindrom string!\n"
     ]
    }
   ],
   "source": [
    "#Write a Python function that checks whether a  passed string is palindrome or not.\n",
    "\n",
    "def pal(s):\n",
    "    l=0\n",
    "    r=len(s)-1\n",
    "    while r>l:\n",
    "        if s[l]!=s[r]:\n",
    "            return print(f\"{a} is not palindrom string!\")\n",
    "        \n",
    "        print()\n",
    "        l=l+1\n",
    "        r=r-1\n",
    "        return print(f\"{a} is a Palindrom string!\")\n",
    "    \n",
    "a=input(\"enter the string:\")\n",
    "\n",
    "pal(a)"
   ]
  },
  {
   "cell_type": "code",
   "execution_count": 4,
   "id": "dc651cae",
   "metadata": {},
   "outputs": [
    {
     "name": "stdout",
     "output_type": "stream",
     "text": [
      "enter the num:5\n",
      "enter the num:10\n",
      "2.0\n"
     ]
    }
   ],
   "source": [
    "#Division of number with decorators\n",
    "def dec(a):\n",
    "    def division(a,b):\n",
    "        if a>b:\n",
    "            c=a/b\n",
    "        elif b>a:\n",
    "            c=b/a\n",
    "        else:\n",
    "            pass\n",
    "        print(c)\n",
    "    return division\n",
    "a=int(input(\"enter the num:\"))\n",
    "b=int(input(\"enter the num:\"))\n",
    "def div(a,b):\n",
    "    c=a/b\n",
    "    print(c)\n",
    "    \n",
    "div=dec(div)\n",
    "div(a,b)"
   ]
  },
  {
   "cell_type": "code",
   "execution_count": null,
   "id": "d9fff9c8",
   "metadata": {},
   "outputs": [],
   "source": []
  }
 ],
 "metadata": {
  "kernelspec": {
   "display_name": "Python 3 (ipykernel)",
   "language": "python",
   "name": "python3"
  },
  "language_info": {
   "codemirror_mode": {
    "name": "ipython",
    "version": 3
   },
   "file_extension": ".py",
   "mimetype": "text/x-python",
   "name": "python",
   "nbconvert_exporter": "python",
   "pygments_lexer": "ipython3",
   "version": "3.9.12"
  }
 },
 "nbformat": 4,
 "nbformat_minor": 5
}
