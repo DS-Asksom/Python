{
 "cells": [
  {
   "cell_type": "code",
   "execution_count": 1,
   "id": "0bd4dc8f",
   "metadata": {},
   "outputs": [
    {
     "name": "stdout",
     "output_type": "stream",
     "text": [
      "Size of Tuple1: 88bytes\n",
      "Size of Tuple1: 72bytes\n"
     ]
    }
   ],
   "source": [
    "#1)Python program to Find the size of a Tuple\n",
    "'''\n",
    "1.Using getsizeof() function:\n",
    "2.Using inbuilt __sizeof__() method:\n",
    "'''\n",
    "import sys\n",
    "Tuple1 = (\"A\", 1, \"B\", 2, \"C\", 3)\n",
    "\n",
    "print(\"Size of Tuple1: \" + str(sys.getsizeof(Tuple1)) + \"bytes\")\n",
    "\n",
    "print(\"Size of Tuple1: \" + str(Tuple1.__sizeof__()) + \"bytes\")\n"
   ]
  },
  {
   "cell_type": "code",
   "execution_count": 2,
   "id": "e1c86ddf",
   "metadata": {},
   "outputs": [],
   "source": [
    "#2)Python – Maximum and Minimum K elements in Tuple"
   ]
  },
  {
   "cell_type": "code",
   "execution_count": 4,
   "id": "7e95cc7b",
   "metadata": {},
   "outputs": [
    {
     "name": "stdout",
     "output_type": "stream",
     "text": [
      "60\n"
     ]
    }
   ],
   "source": [
    "#3)Python – Sum of tuple elements\n",
    "\n",
    "tuple1 = (10, 20, 30)\n",
    "\n",
    "\n",
    "sum1 = sum(tuple1)\n",
    "print(sum1)  "
   ]
  },
  {
   "cell_type": "code",
   "execution_count": 5,
   "id": "df3ae059",
   "metadata": {},
   "outputs": [
    {
     "name": "stdout",
     "output_type": "stream",
     "text": [
      "1 4\n",
      "2 5\n",
      "3 6\n"
     ]
    }
   ],
   "source": [
    "#4)Python – Row-wise element Addition in Tuple Matrix\n",
    "\n",
    "x=(1,2,3)\n",
    "y=(4,5,6)\n",
    "for i,j in zip(x,y):\n",
    "       print(i,j)"
   ]
  },
  {
   "cell_type": "code",
   "execution_count": 7,
   "id": "a66045a5",
   "metadata": {},
   "outputs": [
    {
     "name": "stdout",
     "output_type": "stream",
     "text": [
      "[(1, 1), (2, 8), (5, 125), (6, 216)]\n"
     ]
    }
   ],
   "source": [
    "#5)Create a list of tuples from given list having number and its cube in each tuple\n",
    "list1 = [1, 2, 5, 6]\n",
    " \n",
    "\n",
    "result = [(i, pow(i, 3)) for i in list1]\n",
    " \n",
    "\n",
    "print(result)"
   ]
  },
  {
   "cell_type": "code",
   "execution_count": null,
   "id": "7df0ae56",
   "metadata": {},
   "outputs": [],
   "source": []
  }
 ],
 "metadata": {
  "kernelspec": {
   "display_name": "Python 3 (ipykernel)",
   "language": "python",
   "name": "python3"
  },
  "language_info": {
   "codemirror_mode": {
    "name": "ipython",
    "version": 3
   },
   "file_extension": ".py",
   "mimetype": "text/x-python",
   "name": "python",
   "nbconvert_exporter": "python",
   "pygments_lexer": "ipython3",
   "version": "3.9.12"
  }
 },
 "nbformat": 4,
 "nbformat_minor": 5
}
