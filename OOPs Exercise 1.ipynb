{
 "cells": [
  {
   "cell_type": "code",
   "execution_count": 6,
   "id": "f1400a19",
   "metadata": {},
   "outputs": [
    {
     "name": "stdout",
     "output_type": "stream",
     "text": [
      "Milage of vehicles= 120\n",
      "Price of vehicles= 2000000\n",
      "I'm Bus\n"
     ]
    }
   ],
   "source": [
    "#1) Create a child class Bus that will inherit all of the variables and methods of the Vehicle class\n",
    "\n",
    "class Vehicle:\n",
    "    def __init__(self,milage ,price):\n",
    "        self.milage=milage\n",
    "        self.price=price\n",
    "        \n",
    "    def details_vehicle(self):\n",
    "        print(\"Milage of vehicles=\",self.milage)\n",
    "        print(\"Price of vehicles=\",self.price)\n",
    "        \n",
    "\n",
    "class Bus(Vehicle):\n",
    "    def show_bus(self):\n",
    "        print(\"I'm Bus\")\n",
    "\n",
    "        \n",
    "        \n",
    "b1=Bus(120,2000000)\n",
    "\n",
    "\n",
    "b1.details_vehicle()\n",
    "b1.show_bus()\n",
    "    \n",
    "    "
   ]
  },
  {
   "cell_type": "code",
   "execution_count": 8,
   "id": "1eda4805",
   "metadata": {},
   "outputs": [
    {
     "name": "stdout",
     "output_type": "stream",
     "text": [
      "name: avi age: 23 grade: A\n"
     ]
    }
   ],
   "source": [
    "#2)Write a Program to create a class by name Students, and initialize attributes like name, age, and grade while creating an object\n",
    "\n",
    "class Student:\n",
    "    def __init__(self,name,age,grade):\n",
    "        self.name=name    #s1.name\n",
    "        self.age=age\n",
    "        self.grade=grade\n",
    "        \n",
    "    def show(self):\n",
    "        print(\"name:\",self.name,\"age:\",self.age,\"grade:\",self.grade)\n",
    "\n",
    "s1=Student(\"avi\",23,\"A\")   #object creation\n",
    "s1.show()"
   ]
  },
  {
   "cell_type": "code",
   "execution_count": 13,
   "id": "1de65ee0",
   "metadata": {},
   "outputs": [
    {
     "name": "stdout",
     "output_type": "stream",
     "text": [
      "\n",
      "Member ID: 110 \n",
      "Name: Suraj \n",
      "Department: IT\n",
      "I am Python teacher\n"
     ]
    }
   ],
   "source": [
    "#3)Write a program, to create a child class Teacher that will inherit the properties of Parent class Staff\n",
    "\n",
    "\n",
    "class Staff:    \n",
    "    def __init__(self,member_id,staff_name,department):\n",
    "        self.member_id=member_id    \n",
    "        self.staff_name=staff_name\n",
    "        self.department=department\n",
    "    def show_staff_details(self):\n",
    "        print(\"\\nMember ID:\",self.member_id,\"\\nName:\",self.staff_name,\"\\nDepartment:\",self.department)\n",
    "       \n",
    "        \n",
    "\n",
    "class Teacher(Staff):      \n",
    "    def teacher_details(self):\n",
    "        print(\"I am Python teacher\")\n",
    "\n",
    "        \n",
    "t1=Teacher(110,\"Suraj\",\"IT\")\n",
    "t1.show_staff_details()\n",
    "t1.teacher_details()"
   ]
  },
  {
   "cell_type": "code",
   "execution_count": 14,
   "id": "c0593873",
   "metadata": {},
   "outputs": [
    {
     "name": "stdout",
     "output_type": "stream",
     "text": [
      "name= som age= 23 salary= 25000\n"
     ]
    }
   ],
   "source": [
    "#4)Create a class Teacher with name, age, and salary attributes, where salary must be a private attribute that cannot be accessed outside the class\n",
    "\n",
    "class Teacher:\n",
    "    def __init__(self,name,age,salary):\n",
    "        self.name=name     \n",
    "        self.age=age    \n",
    "        self.__salary=salary  #private variable\n",
    "    def show(self):      \n",
    "        print('name=',self.name,'age=',self.age,\"salary=\",self.__salary)\n",
    "        \n",
    "    \n",
    "        \n",
    "t1=Teacher(\"som\",23,25000)\n",
    "t1.show()\n",
    "\n"
   ]
  },
  {
   "cell_type": "code",
   "execution_count": 21,
   "id": "780d2c26",
   "metadata": {},
   "outputs": [
    {
     "name": "stdout",
     "output_type": "stream",
     "text": [
      "Area of Squre is 25\n",
      "Perimeter of the squre 20\n"
     ]
    }
   ],
   "source": [
    "class Squre:\n",
    "    def area(self,side):\n",
    "        area=side*side\n",
    "        print(\"Area of Squre is\",area)\n",
    "        \n",
    "    def perimeter(self,side):\n",
    "        perimeter=4*side\n",
    "        print(\"Perimeter of the squre\",perimeter)\n",
    "        \n",
    "s1=Squre()\n",
    "s1.area(5)\n",
    "s1.perimeter(5)"
   ]
  }
 ],
 "metadata": {
  "kernelspec": {
   "display_name": "Python 3 (ipykernel)",
   "language": "python",
   "name": "python3"
  },
  "language_info": {
   "codemirror_mode": {
    "name": "ipython",
    "version": 3
   },
   "file_extension": ".py",
   "mimetype": "text/x-python",
   "name": "python",
   "nbconvert_exporter": "python",
   "pygments_lexer": "ipython3",
   "version": "3.9.12"
  }
 },
 "nbformat": 4,
 "nbformat_minor": 5
}
