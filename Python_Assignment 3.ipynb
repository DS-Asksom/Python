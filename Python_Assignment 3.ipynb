{
 "cells": [
  {
   "cell_type": "code",
   "execution_count": 1,
   "id": "6a6f6954",
   "metadata": {},
   "outputs": [
    {
     "name": "stdout",
     "output_type": "stream",
     "text": [
      "Please enter any number: 45663\n",
      "The reverse number is : 36654\n"
     ]
    }
   ],
   "source": [
    "#1)Write a Python program to reverse a number. \n",
    "#method1\n",
    "\n",
    "num = int(input(\"Please enter any number: \"))\n",
    "rev = 0\n",
    "while(num>0):\n",
    "  remainder = num % 10\n",
    "  rev= (rev* 10) + remainder\n",
    "  num = num//10\n",
    "print(\"The reverse number is :\",rev)\n"
   ]
  },
  {
   "cell_type": "code",
   "execution_count": 1,
   "id": "0fda8fd2",
   "metadata": {},
   "outputs": [
    {
     "name": "stdout",
     "output_type": "stream",
     "text": [
      "Please enter any number: 654564\n",
      "465456\n"
     ]
    }
   ],
   "source": [
    "#method2\n",
    "num = int(input(\"Please enter any number: \"))\n",
    "print(str(num)[::-1])"
   ]
  },
  {
   "cell_type": "code",
   "execution_count": 2,
   "id": "be912efd",
   "metadata": {},
   "outputs": [
    {
     "name": "stdout",
     "output_type": "stream",
     "text": [
      "Positive number: [3, 8, 9, 45]\n",
      "Negitive number: [-4, -12, -31]\n"
     ]
    }
   ],
   "source": [
    "#2)Write a program to separate positive and negative number from a list\n",
    "#List1= [3,8 , -4,9,-12,45,-31]\n",
    "\n",
    "list1= [3,8 , -4,9,-12,45,-31] \n",
    "positive=[]\n",
    "negative=[]\n",
    "for i in list1:\n",
    "    if i>0:\n",
    "        positive.append(i)\n",
    "    else:\n",
    "        negative.append(i)\n",
    "print(\"Positive number:\",positive) \n",
    "print(\"Negitive number:\",negative)"
   ]
  },
  {
   "cell_type": "code",
   "execution_count": 3,
   "id": "ba5d2a0c",
   "metadata": {},
   "outputs": [
    {
     "name": "stdout",
     "output_type": "stream",
     "text": [
      "odd index list= [6, 3, 5, 7]\n"
     ]
    }
   ],
   "source": [
    "#3Use a loop to display elements from a given list present at odd index positions\n",
    "#L = [6, 2, 3, 4, 5, 6, 7]\n",
    "\n",
    "L = [6, 2, 3, 4, 5, 6, 7]\n",
    "odd_index_list = []\n",
    "count = 0\n",
    "for i in L:\n",
    "    if count % 2 == 0:\n",
    "        odd_index_list.append(i)\n",
    "    count += 1\n",
    "print(\"odd index list=\",odd_index_list  )    "
   ]
  },
  {
   "cell_type": "code",
   "execution_count": 4,
   "id": "51028606",
   "metadata": {},
   "outputs": [
    {
     "name": "stdout",
     "output_type": "stream",
     "text": [
      "Even numbers in the list:  4\n",
      "Odd numbers in the list:  5\n"
     ]
    }
   ],
   "source": [
    "#4)Write a Python program to count the number of even and odd numbers from list\n",
    "\n",
    "numbers = [1, 2, 3, 4, 5, 6, 7, 8, 9]\n",
    "\n",
    "even, odd = 0, 0\n",
    " \n",
    "for num in numbers:\n",
    "    if num % 2 == 0:\n",
    "        even=even+1\n",
    " \n",
    "    else:\n",
    "        odd=odd+1\n",
    "         \n",
    "print(\"Even numbers in the list: \", even)\n",
    "print(\"Odd numbers in the list: \", odd)"
   ]
  },
  {
   "cell_type": "code",
   "execution_count": 5,
   "id": "a1031383",
   "metadata": {},
   "outputs": [
    {
     "name": "stdout",
     "output_type": "stream",
     "text": [
      "enter a string:ff6nn6h\n",
      "Letters 5\n",
      "Digits 2\n"
     ]
    }
   ],
   "source": [
    "#5) Write a Python program that accepts a string and calculate the number of digits and letters\n",
    "\n",
    "s = input(\"enter a string:\")\n",
    "d,l=0,0\n",
    "for i in s:\n",
    "    if i.isdigit():\n",
    "        d=d+1\n",
    "    elif i.isalpha():\n",
    "        l=l+1\n",
    "    else:\n",
    "        pass\n",
    "        \n",
    "print(\"Letters\", l)\n",
    "print(\"Digits\", d)"
   ]
  },
  {
   "cell_type": "code",
   "execution_count": 13,
   "id": "e68566ea",
   "metadata": {},
   "outputs": [
    {
     "name": "stdout",
     "output_type": "stream",
     "text": [
      "Enter the password:Ask@som56\n",
      "You Enter valid password\n"
     ]
    }
   ],
   "source": [
    "#6) Write a Python program to check the validity of a password (input from users).  Validation :\n",
    "#At least 1 letter between [a-z] and 1 letter between [A-Z].\n",
    "#At least 1 number between [0-9].\n",
    "#At least 1 character from [$#@].\n",
    "#Minimum length 6 characters.\n",
    "#Maximum length 16 characters\n",
    "\n",
    "\n",
    "d=0\n",
    "sc=0\n",
    "u=0\n",
    "l=0\n",
    "password=input(\"Enter the password:\")\n",
    "if len(password)>=6 and len(password)<=16: \n",
    "    for i in password:\n",
    "      \n",
    "        if i.isdigit():\n",
    "            d= d+1\n",
    "            \n",
    "        if i==\"@\" or i==\"$\" or i==\"_\":\n",
    "            sc=sc+1\n",
    "            \n",
    "        if i.isupper():\n",
    "            u=u+1\n",
    "            \n",
    "        if i.islower():\n",
    "            l=l+1\n",
    "            \n",
    "if ( d>=1 and sc>=1 and u>=1 and l>=1 and d+sc+u+l==len(password)):\n",
    "    print(\"You Enter valid password\")\n",
    "    \n",
    "else:\n",
    "    print(\"You enter invalid pasword\")"
   ]
  },
  {
   "cell_type": "code",
   "execution_count": 8,
   "id": "91984c4d",
   "metadata": {},
   "outputs": [
    {
     "name": "stdout",
     "output_type": "stream",
     "text": [
      "Note-Enter only one charecter!\n",
      "enter a one alphabet:i\n",
      "i  is a vowel.\n"
     ]
    }
   ],
   "source": [
    "#7) Write a Python program to check whether an alphabet is a vowel or consonant\n",
    "print(\"Note-Enter only one charecter!\")\n",
    "alpha = input(\"enter a one alphabet:\")\n",
    "if len(alpha)==1:\n",
    "    if alpha in ('a', 'e', 'i', 'o', 'u'):\n",
    "        print(alpha,\" is a vowel.\")\n",
    "    else:\n",
    "        print(alpha,\"is Consonants.\")\n",
    "else:\n",
    "    print(\"invalid input\")\n",
    "   "
   ]
  },
  {
   "cell_type": "code",
   "execution_count": 15,
   "id": "40c79fe6",
   "metadata": {},
   "outputs": [
    {
     "name": "stdout",
     "output_type": "stream",
     "text": [
      "Note:Months name should enter in lower case and in full from ..example january not jan! otherwise its get error!!\n",
      "Enter the name of Month: june\n",
      "The total No. of days in june is 30 \n"
     ]
    }
   ],
   "source": [
    "#8) Write a Python program to convert month name to a number of days.\n",
    "\n",
    "print(\"Note:Months name should enter in lower case and in full from ..example january not jan! otherwise its get error!!\")\n",
    "month = input(\"Enter the name of Month: \")\n",
    "\n",
    "if month== \"february\":\n",
    "    print(f\"The total No. of days in {month} is 28/29\")\n",
    "elif month in (\"april\", \"june\", \"september\", \"november\"):\n",
    "    print(f\"The total No. of days in {month} is 30 \")\n",
    "elif month in (\"january\", \"march\", \"may\", \"july\", \"august\", \"october\", \"december\"):\n",
    "    print(f\"The total No. of days in {month} is 31\")\n",
    "else:\n",
    "    print(\"Wrong month name\")\n",
    "    "
   ]
  },
  {
   "cell_type": "code",
   "execution_count": 17,
   "id": "0247a985",
   "metadata": {},
   "outputs": [
    {
     "name": "stdout",
     "output_type": "stream",
     "text": [
      "xy: 45\n",
      "yz: 56\n",
      "xz: 56\n",
      "The triangle is isosceles triangle.\n"
     ]
    }
   ],
   "source": [
    "#9)  Write a Python program to check a triangle is equilateral, isosceles or scalene\n",
    "   #  Note\n",
    "   #  An equilateral triangle is a triangle in which all three sides are equal.\n",
    "   #  A scalene triangle is a triangle that has three unequal sides.\n",
    "   #  An isosceles triangle is a triangle with (at least) two equal sides.\n",
    "\n",
    "\n",
    "xy = float(input(\"xy: \"))\n",
    "yz = float(input(\"yz: \"))\n",
    "xz = float(input(\"xz: \"))\n",
    "\n",
    "if xy == yz == xz:\n",
    "    print(\"The triangle is Equilateral triangle.\")\n",
    "elif xy==yz or yz==xz or xz==xy:\n",
    "    print(\"The triangle is isosceles triangle.\")\n",
    "else:\n",
    "    print(\"The triangle is Scalene triangle.\")\n",
    "\n"
   ]
  },
  {
   "cell_type": "code",
   "execution_count": null,
   "id": "9ee7fdd0",
   "metadata": {},
   "outputs": [],
   "source": []
  }
 ],
 "metadata": {
  "kernelspec": {
   "display_name": "Python 3 (ipykernel)",
   "language": "python",
   "name": "python3"
  },
  "language_info": {
   "codemirror_mode": {
    "name": "ipython",
    "version": 3
   },
   "file_extension": ".py",
   "mimetype": "text/x-python",
   "name": "python",
   "nbconvert_exporter": "python",
   "pygments_lexer": "ipython3",
   "version": "3.9.12"
  }
 },
 "nbformat": 4,
 "nbformat_minor": 5
}
